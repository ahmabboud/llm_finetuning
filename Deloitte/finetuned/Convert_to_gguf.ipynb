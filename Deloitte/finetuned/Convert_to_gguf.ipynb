{
 "cells": [
  {
   "cell_type": "code",
   "execution_count": 1,
   "id": "10e2881a-3b61-4662-8289-2f242c6fd14a",
   "metadata": {},
   "outputs": [],
   "source": [
    "# ref: https://github.com/ggerganov/llama.cpp/discussions/2948"
   ]
  },
  {
   "cell_type": "code",
   "execution_count": 2,
   "id": "7dbf1d23-a01e-43d2-a560-e4a6c67de3c8",
   "metadata": {},
   "outputs": [
    {
     "name": "stdout",
     "output_type": "stream",
     "text": [
      "Cloning into 'llama.cpp'...\n",
      "remote: Enumerating objects: 27752, done.\u001b[K\n",
      "remote: Counting objects: 100% (204/204), done.\u001b[K\n",
      "remote: Compressing objects: 100% (141/141), done.\u001b[K\n",
      "remote: Total 27752 (delta 98), reused 141 (delta 62), pack-reused 27548\u001b[K\n",
      "Receiving objects: 100% (27752/27752), 49.70 MiB | 21.60 MiB/s, done.\n",
      "Resolving deltas: 100% (19736/19736), done.\n"
     ]
    }
   ],
   "source": [
    "!git clone https://github.com/ggerganov/llama.cpp.git"
   ]
  },
  {
   "cell_type": "code",
   "execution_count": 3,
   "id": "f77a42cd-8d00-44b6-9b64-3cb6c42c86a7",
   "metadata": {},
   "outputs": [
    {
     "name": "stdout",
     "output_type": "stream",
     "text": [
      "Requirement already satisfied: numpy~=1.26.4 in /fs01/home/ws_aabboud/venv312/lib/python3.12/site-packages (from -r llama.cpp/./requirements/requirements-convert-legacy-llama.txt (line 1)) (1.26.4)\n",
      "Requirement already satisfied: sentencepiece~=0.2.0 in /fs01/home/ws_aabboud/venv312/lib/python3.12/site-packages (from -r llama.cpp/./requirements/requirements-convert-legacy-llama.txt (line 2)) (0.2.0)\n",
      "Requirement already satisfied: transformers<5.0.0,>=4.40.1 in /fs01/home/ws_aabboud/venv312/lib/python3.12/site-packages (from -r llama.cpp/./requirements/requirements-convert-legacy-llama.txt (line 3)) (4.41.2)\n",
      "Requirement already satisfied: gguf>=0.1.0 in /fs01/home/ws_aabboud/venv312/lib/python3.12/site-packages (from -r llama.cpp/./requirements/requirements-convert-legacy-llama.txt (line 4)) (0.6.0)\n",
      "Requirement already satisfied: protobuf<5.0.0,>=4.21.0 in /fs01/home/ws_aabboud/venv312/lib/python3.12/site-packages (from -r llama.cpp/./requirements/requirements-convert-legacy-llama.txt (line 5)) (4.25.3)\n",
      "Requirement already satisfied: torch~=2.2.1 in /fs01/home/ws_aabboud/venv312/lib/python3.12/site-packages (from -r llama.cpp/./requirements/requirements-convert-hf-to-gguf.txt (line 2)) (2.2.2)\n",
      "Requirement already satisfied: filelock in /fs01/home/ws_aabboud/venv312/lib/python3.12/site-packages (from transformers<5.0.0,>=4.40.1->-r llama.cpp/./requirements/requirements-convert-legacy-llama.txt (line 3)) (3.15.4)\n",
      "Requirement already satisfied: huggingface-hub<1.0,>=0.23.0 in /fs01/home/ws_aabboud/venv312/lib/python3.12/site-packages (from transformers<5.0.0,>=4.40.1->-r llama.cpp/./requirements/requirements-convert-legacy-llama.txt (line 3)) (0.23.4)\n",
      "Requirement already satisfied: packaging>=20.0 in /fs01/home/ws_aabboud/venv312/lib/python3.12/site-packages (from transformers<5.0.0,>=4.40.1->-r llama.cpp/./requirements/requirements-convert-legacy-llama.txt (line 3)) (24.1)\n",
      "Requirement already satisfied: pyyaml>=5.1 in /fs01/home/ws_aabboud/venv312/lib/python3.12/site-packages (from transformers<5.0.0,>=4.40.1->-r llama.cpp/./requirements/requirements-convert-legacy-llama.txt (line 3)) (6.0.1)\n",
      "Requirement already satisfied: regex!=2019.12.17 in /fs01/home/ws_aabboud/venv312/lib/python3.12/site-packages (from transformers<5.0.0,>=4.40.1->-r llama.cpp/./requirements/requirements-convert-legacy-llama.txt (line 3)) (2024.5.15)\n",
      "Requirement already satisfied: requests in /fs01/home/ws_aabboud/venv312/lib/python3.12/site-packages (from transformers<5.0.0,>=4.40.1->-r llama.cpp/./requirements/requirements-convert-legacy-llama.txt (line 3)) (2.32.3)\n",
      "Requirement already satisfied: tokenizers<0.20,>=0.19 in /fs01/home/ws_aabboud/venv312/lib/python3.12/site-packages (from transformers<5.0.0,>=4.40.1->-r llama.cpp/./requirements/requirements-convert-legacy-llama.txt (line 3)) (0.19.1)\n",
      "Requirement already satisfied: safetensors>=0.4.1 in /fs01/home/ws_aabboud/venv312/lib/python3.12/site-packages (from transformers<5.0.0,>=4.40.1->-r llama.cpp/./requirements/requirements-convert-legacy-llama.txt (line 3)) (0.4.3)\n",
      "Requirement already satisfied: tqdm>=4.27 in /fs01/home/ws_aabboud/venv312/lib/python3.12/site-packages (from transformers<5.0.0,>=4.40.1->-r llama.cpp/./requirements/requirements-convert-legacy-llama.txt (line 3)) (4.66.4)\n",
      "Requirement already satisfied: typing-extensions>=4.8.0 in /fs01/home/ws_aabboud/venv312/lib/python3.12/site-packages (from torch~=2.2.1->-r llama.cpp/./requirements/requirements-convert-hf-to-gguf.txt (line 2)) (4.12.2)\n",
      "Requirement already satisfied: sympy in /fs01/home/ws_aabboud/venv312/lib/python3.12/site-packages (from torch~=2.2.1->-r llama.cpp/./requirements/requirements-convert-hf-to-gguf.txt (line 2)) (1.12.1)\n",
      "Requirement already satisfied: networkx in /fs01/home/ws_aabboud/venv312/lib/python3.12/site-packages (from torch~=2.2.1->-r llama.cpp/./requirements/requirements-convert-hf-to-gguf.txt (line 2)) (3.3)\n",
      "Requirement already satisfied: jinja2 in /fs01/home/ws_aabboud/venv312/lib/python3.12/site-packages (from torch~=2.2.1->-r llama.cpp/./requirements/requirements-convert-hf-to-gguf.txt (line 2)) (3.1.4)\n",
      "Requirement already satisfied: fsspec in /fs01/home/ws_aabboud/venv312/lib/python3.12/site-packages (from torch~=2.2.1->-r llama.cpp/./requirements/requirements-convert-hf-to-gguf.txt (line 2)) (2024.5.0)\n",
      "Requirement already satisfied: nvidia-cuda-nvrtc-cu12==12.1.105 in /fs01/home/ws_aabboud/venv312/lib/python3.12/site-packages (from torch~=2.2.1->-r llama.cpp/./requirements/requirements-convert-hf-to-gguf.txt (line 2)) (12.1.105)\n",
      "Requirement already satisfied: nvidia-cuda-runtime-cu12==12.1.105 in /fs01/home/ws_aabboud/venv312/lib/python3.12/site-packages (from torch~=2.2.1->-r llama.cpp/./requirements/requirements-convert-hf-to-gguf.txt (line 2)) (12.1.105)\n",
      "Requirement already satisfied: nvidia-cuda-cupti-cu12==12.1.105 in /fs01/home/ws_aabboud/venv312/lib/python3.12/site-packages (from torch~=2.2.1->-r llama.cpp/./requirements/requirements-convert-hf-to-gguf.txt (line 2)) (12.1.105)\n",
      "Requirement already satisfied: nvidia-cudnn-cu12==8.9.2.26 in /fs01/home/ws_aabboud/venv312/lib/python3.12/site-packages (from torch~=2.2.1->-r llama.cpp/./requirements/requirements-convert-hf-to-gguf.txt (line 2)) (8.9.2.26)\n",
      "Requirement already satisfied: nvidia-cublas-cu12==12.1.3.1 in /fs01/home/ws_aabboud/venv312/lib/python3.12/site-packages (from torch~=2.2.1->-r llama.cpp/./requirements/requirements-convert-hf-to-gguf.txt (line 2)) (12.1.3.1)\n",
      "Requirement already satisfied: nvidia-cufft-cu12==11.0.2.54 in /fs01/home/ws_aabboud/venv312/lib/python3.12/site-packages (from torch~=2.2.1->-r llama.cpp/./requirements/requirements-convert-hf-to-gguf.txt (line 2)) (11.0.2.54)\n",
      "Requirement already satisfied: nvidia-curand-cu12==10.3.2.106 in /fs01/home/ws_aabboud/venv312/lib/python3.12/site-packages (from torch~=2.2.1->-r llama.cpp/./requirements/requirements-convert-hf-to-gguf.txt (line 2)) (10.3.2.106)\n",
      "Requirement already satisfied: nvidia-cusolver-cu12==11.4.5.107 in /fs01/home/ws_aabboud/venv312/lib/python3.12/site-packages (from torch~=2.2.1->-r llama.cpp/./requirements/requirements-convert-hf-to-gguf.txt (line 2)) (11.4.5.107)\n",
      "Requirement already satisfied: nvidia-cusparse-cu12==12.1.0.106 in /fs01/home/ws_aabboud/venv312/lib/python3.12/site-packages (from torch~=2.2.1->-r llama.cpp/./requirements/requirements-convert-hf-to-gguf.txt (line 2)) (12.1.0.106)\n",
      "Requirement already satisfied: nvidia-nccl-cu12==2.19.3 in /fs01/home/ws_aabboud/venv312/lib/python3.12/site-packages (from torch~=2.2.1->-r llama.cpp/./requirements/requirements-convert-hf-to-gguf.txt (line 2)) (2.19.3)\n",
      "Requirement already satisfied: nvidia-nvtx-cu12==12.1.105 in /fs01/home/ws_aabboud/venv312/lib/python3.12/site-packages (from torch~=2.2.1->-r llama.cpp/./requirements/requirements-convert-hf-to-gguf.txt (line 2)) (12.1.105)\n",
      "Requirement already satisfied: nvidia-nvjitlink-cu12 in /fs01/home/ws_aabboud/venv312/lib/python3.12/site-packages (from nvidia-cusolver-cu12==11.4.5.107->torch~=2.2.1->-r llama.cpp/./requirements/requirements-convert-hf-to-gguf.txt (line 2)) (12.5.40)\n",
      "Requirement already satisfied: MarkupSafe>=2.0 in /fs01/home/ws_aabboud/venv312/lib/python3.12/site-packages (from jinja2->torch~=2.2.1->-r llama.cpp/./requirements/requirements-convert-hf-to-gguf.txt (line 2)) (2.1.5)\n",
      "Requirement already satisfied: charset-normalizer<4,>=2 in /fs01/home/ws_aabboud/venv312/lib/python3.12/site-packages (from requests->transformers<5.0.0,>=4.40.1->-r llama.cpp/./requirements/requirements-convert-legacy-llama.txt (line 3)) (3.3.2)\n",
      "Requirement already satisfied: idna<4,>=2.5 in /fs01/home/ws_aabboud/venv312/lib/python3.12/site-packages (from requests->transformers<5.0.0,>=4.40.1->-r llama.cpp/./requirements/requirements-convert-legacy-llama.txt (line 3)) (3.7)\n",
      "Requirement already satisfied: urllib3<3,>=1.21.1 in /fs01/home/ws_aabboud/venv312/lib/python3.12/site-packages (from requests->transformers<5.0.0,>=4.40.1->-r llama.cpp/./requirements/requirements-convert-legacy-llama.txt (line 3)) (2.2.2)\n",
      "Requirement already satisfied: certifi>=2017.4.17 in /fs01/home/ws_aabboud/venv312/lib/python3.12/site-packages (from requests->transformers<5.0.0,>=4.40.1->-r llama.cpp/./requirements/requirements-convert-legacy-llama.txt (line 3)) (2024.6.2)\n",
      "Requirement already satisfied: mpmath<1.4.0,>=1.1.0 in /fs01/home/ws_aabboud/venv312/lib/python3.12/site-packages (from sympy->torch~=2.2.1->-r llama.cpp/./requirements/requirements-convert-hf-to-gguf.txt (line 2)) (1.3.0)\n"
     ]
    }
   ],
   "source": [
    "!pip install -r llama.cpp/requirements.txt"
   ]
  },
  {
   "cell_type": "code",
   "execution_count": 9,
   "id": "ca349ff6-5e1f-49ee-89a2-5b06eaca9073",
   "metadata": {},
   "outputs": [
    {
     "name": "stdout",
     "output_type": "stream",
     "text": [
      "Traceback (most recent call last):\n",
      "  File \"/fs01/home/ws_aabboud/finetuning-and-alignment/Deloitte/finetuned/llama.cpp/convert-hf-to-gguf.py\", line 2900, in <module>\n",
      "    class LazyTorchTensor(gguf.LazyBase):\n",
      "  File \"/fs01/home/ws_aabboud/finetuning-and-alignment/Deloitte/finetuned/llama.cpp/convert-hf-to-gguf.py\", line 2901, in LazyTorchTensor\n",
      "    _tensor_type = torch.Tensor\n",
      "                   ^^^^^^^^^^^^\n",
      "AttributeError: module 'torch' has no attribute 'Tensor'\n"
     ]
    }
   ],
   "source": [
    "!python3 llama.cpp/convert-hf-to-gguf.py -h"
   ]
  },
  {
   "cell_type": "code",
   "execution_count": null,
   "id": "9e1633ac-b5a5-4bc6-92eb-3c46f68973b6",
   "metadata": {},
   "outputs": [],
   "source": [
    "!python llama.cpp/convert-hf-to-gguf.py vicuna-hf \\\n",
    "  --outfile vicuna-13b-v1.5.gguf \\\n",
    "  --outtype q8_0"
   ]
  },
  {
   "cell_type": "code",
   "execution_count": 7,
   "id": "c3483c67-cb7b-4035-a19e-23d3dfc0a7db",
   "metadata": {},
   "outputs": [
    {
     "name": "stdout",
     "output_type": "stream",
     "text": [
      "Traceback (most recent call last):\n",
      "  File \"/fs01/home/ws_aabboud/finetuning-and-alignment/Deloitte/finetuned/llama.cpp/convert-hf-to-gguf.py\", line 2900, in <module>\n",
      "    class LazyTorchTensor(gguf.LazyBase):\n",
      "  File \"/fs01/home/ws_aabboud/finetuning-and-alignment/Deloitte/finetuned/llama.cpp/convert-hf-to-gguf.py\", line 2901, in LazyTorchTensor\n",
      "    _tensor_type = torch.Tensor\n",
      "                   ^^^^^^^^^^^^\n",
      "AttributeError: module 'torch' has no attribute 'Tensor'\n"
     ]
    }
   ],
   "source": [
    "!python llama.cpp/convert-hf-to-gguf.py merged_model --outfile gguf_model/gguf_model.gguf "
   ]
  },
  {
   "cell_type": "code",
   "execution_count": null,
   "id": "290f47c6-6447-472d-b6ad-b41fb0095099",
   "metadata": {},
   "outputs": [],
   "source": []
  }
 ],
 "metadata": {
  "kernelspec": {
   "display_name": "finetune_demo",
   "language": "python",
   "name": "finetune_demo"
  },
  "language_info": {
   "codemirror_mode": {
    "name": "ipython",
    "version": 3
   },
   "file_extension": ".py",
   "mimetype": "text/x-python",
   "name": "python",
   "nbconvert_exporter": "python",
   "pygments_lexer": "ipython3",
   "version": "3.10.12"
  }
 },
 "nbformat": 4,
 "nbformat_minor": 5
}
